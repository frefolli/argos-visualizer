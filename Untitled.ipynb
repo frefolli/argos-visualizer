{
 "cells": [
  {
   "cell_type": "code",
   "execution_count": 8,
   "id": "be50b50b-18c3-4a20-ae29-9bf9071fba7c",
   "metadata": {},
   "outputs": [],
   "source": [
    "import plot.loaders\n",
    "import plot.metrics\n",
    "import matplotlib.pyplot\n",
    "import matplotlib.figure\n",
    "import pandas\n",
    "import numpy"
   ]
  },
  {
   "cell_type": "code",
   "execution_count": 13,
   "id": "dc72d1a2-01f2-40e5-8e97-7ca6c45ea948",
   "metadata": {},
   "outputs": [],
   "source": [
    "def plotter(func):\n",
    "  def wrapper(*args, **kwargs):\n",
    "    fig = matplotlib.pyplot.figure(figsize=(10, 10))\n",
    "    func(*args, **kwargs)\n",
    "    matplotlib.pyplot.legend()\n",
    "    matplotlib.pyplot.savefig(func.__qualname__)\n",
    "    matplotlib.pyplot.close()\n",
    "  return wrapper"
   ]
  },
  {
   "cell_type": "code",
   "execution_count": 28,
   "id": "413dc412-159f-4713-9b7c-263f6cf51c4f",
   "metadata": {},
   "outputs": [],
   "source": [
    "@plotter\n",
    "def MeanDistanceFromTarget():\n",
    "  for mode in ['random-choice', 'default', 'nn']:\n",
    "    drones = plot.loaders.DroneLogsLoader.run(path=\"./archive/%s\" % mode)\n",
    "    targets = plot.loaders.TargetsLogLoader.run(path=\"./archive/%s\" % mode)\n",
    "    Ys = numpy.mean(numpy.array([drones[ID].DistanceFromTarget for ID in drones]), axis=0)\n",
    "    Xs = drones['sp0'].Timestamp\n",
    "    matplotlib.pyplot.plot(Xs, Ys, label=mode)\n",
    "\n",
    "@plotter\n",
    "def MinTargetPresence():\n",
    "  for mode in ['random-choice', 'default', 'nn']:\n",
    "    drones = plot.loaders.DroneLogsLoader.run(path=\"./archive/%s\" % mode)\n",
    "    targets = plot.loaders.TargetsLogLoader.run(path=\"./archive/%s\" % mode)\n",
    "    squadrons: numpy.ndarray = numpy.zeros((len(drones['sp0'].Timestamp), len(targets)))\n",
    "    for ID in drones:\n",
    "      for i in range(len(drones[ID].Timestamp)):\n",
    "        squadrons[i][drones[ID].Target[i]] += 1\n",
    "    Ys = numpy.min(squadrons, axis=1)\n",
    "    Xs = drones['sp0'].Timestamp\n",
    "    matplotlib.pyplot.plot(Xs, Ys, label=mode)\n",
    "\n",
    "@plotter\n",
    "def MeanTargetPresence():\n",
    "  for mode in ['random-choice', 'default', 'nn']:\n",
    "    drones = plot.loaders.DroneLogsLoader.run(path=\"./archive/%s\" % mode)\n",
    "    targets = plot.loaders.TargetsLogLoader.run(path=\"./archive/%s\" % mode)\n",
    "    squadrons: numpy.ndarray = numpy.zeros((len(drones['sp0'].Timestamp), len(targets)))\n",
    "    for ID in drones:\n",
    "      for i in range(len(drones[ID].Timestamp)):\n",
    "        squadrons[i][drones[ID].Target[i]] += 1\n",
    "    Ys = numpy.mean(squadrons, axis=1)\n",
    "    Xs = drones['sp0'].Timestamp\n",
    "    matplotlib.pyplot.plot(Xs, Ys, label=mode)\n",
    "\n",
    "@plotter\n",
    "def MaxTargetPresence():\n",
    "  for mode in ['random-choice', 'default', 'nn']:\n",
    "    drones = plot.loaders.DroneLogsLoader.run(path=\"./archive/%s\" % mode)\n",
    "    targets = plot.loaders.TargetsLogLoader.run(path=\"./archive/%s\" % mode)\n",
    "    squadrons: numpy.ndarray = numpy.zeros((len(drones['sp0'].Timestamp), len(targets)))\n",
    "    for ID in drones:\n",
    "      for i in range(len(drones[ID].Timestamp)):\n",
    "        squadrons[i][drones[ID].Target[i]] += 1\n",
    "    Ys = numpy.max(squadrons, axis=1)\n",
    "    Xs = drones['sp0'].Timestamp\n",
    "    matplotlib.pyplot.plot(Xs, Ys, label=mode)"
   ]
  },
  {
   "cell_type": "code",
   "execution_count": 29,
   "id": "187427a3-faa7-4fcc-8ab3-d8c4f4613a5f",
   "metadata": {},
   "outputs": [],
   "source": [
    "MinTargetPresence()\n",
    "MeanTargetPresence()\n",
    "MaxTargetPresence()"
   ]
  }
 ],
 "metadata": {
  "kernelspec": {
   "display_name": "Python 3 (ipykernel)",
   "language": "python",
   "name": "python3"
  },
  "language_info": {
   "codemirror_mode": {
    "name": "ipython",
    "version": 3
   },
   "file_extension": ".py",
   "mimetype": "text/x-python",
   "name": "python",
   "nbconvert_exporter": "python",
   "pygments_lexer": "ipython3",
   "version": "3.11.9"
  }
 },
 "nbformat": 4,
 "nbformat_minor": 5
}
